{
 "cells": [
  {
   "cell_type": "code",
   "execution_count": 120,
   "id": "e24b34ca-0a21-4dc6-92e4-4b16bcbd5a98",
   "metadata": {},
   "outputs": [],
   "source": [
    "import pandas as pd"
   ]
  },
  {
   "cell_type": "markdown",
   "id": "262ed441-1e2f-4f23-af4e-3c1c0f6dc002",
   "metadata": {},
   "source": [
    "# Pandas Test - Real life exercise"
   ]
  },
  {
   "cell_type": "markdown",
   "id": "ad46fe63-39ad-4b03-b6b6-623586b94d45",
   "metadata": {},
   "source": [
    "For visualizations:"
   ]
  },
  {
   "cell_type": "code",
   "execution_count": 121,
   "id": "58bd46da-da6c-44d0-903f-19be230836e5",
   "metadata": {},
   "outputs": [
    {
     "data": {
      "text/html": [
       "        <script type=\"text/javascript\">\n",
       "        window.PlotlyConfig = {MathJaxConfig: 'local'};\n",
       "        if (window.MathJax) {MathJax.Hub.Config({SVG: {font: \"STIX-Web\"}});}\n",
       "        if (typeof require !== 'undefined') {\n",
       "        require.undef(\"plotly\");\n",
       "        requirejs.config({\n",
       "            paths: {\n",
       "                'plotly': ['https://cdn.plot.ly/plotly-2.9.0.min']\n",
       "            }\n",
       "        });\n",
       "        require(['plotly'], function(Plotly) {\n",
       "            window._Plotly = Plotly;\n",
       "        });\n",
       "        }\n",
       "        </script>\n",
       "        "
      ]
     },
     "metadata": {},
     "output_type": "display_data"
    }
   ],
   "source": [
    "import cufflinks as cf; cf.go_offline()\n",
    "import plotly_express as px"
   ]
  },
  {
   "cell_type": "markdown",
   "id": "2685b7b6-1a31-451b-a1e8-f29c1513b697",
   "metadata": {},
   "source": [
    "## About the data"
   ]
  },
  {
   "cell_type": "markdown",
   "id": "5453d0d4-f625-41df-942e-ff2f5cf0f993",
   "metadata": {},
   "source": [
    "The data you are about to load is coming from an Ad recommentation system of the company InBrain. InBrain is a adTech company and specalize in next-level ad recommendation.  \n",
    "The company has two major products - one giving high quality recommendation while the other is giving an highly yielding recommendation. Inbrain custormers are sending requests, asking for either of the products. \n",
    "\n",
    "Once a week, the company is doing an internal quality assements, and sends a sample of its traffic requests to external annotation process, in which the annotators are trained to manually decided whether the recommended Ad is a succes or not. The data contains information about the ad (**ad_id**), the sampled week (**week_id**), the requester company (**requester**), the region of operation (**region**), the recommendation type (Quality/Yield, **recommendation_type**) and the recommendation provider algorithm (**rec_provider**). The annotators are marking whether the recommendation is meeting the Quality/Yield standards (**is_success**) and whether or not the recommendation is severly defected (**is_sever**)\n",
    "\n",
    "See a sample below:"
   ]
  },
  {
   "cell_type": "code",
   "execution_count": 122,
   "id": "71b69819-00b8-4612-bd2f-49bab7b7ab13",
   "metadata": {},
   "outputs": [
    {
     "data": {
      "text/html": [
       "<div>\n",
       "<style scoped>\n",
       "    .dataframe tbody tr th:only-of-type {\n",
       "        vertical-align: middle;\n",
       "    }\n",
       "\n",
       "    .dataframe tbody tr th {\n",
       "        vertical-align: top;\n",
       "    }\n",
       "\n",
       "    .dataframe thead th {\n",
       "        text-align: right;\n",
       "    }\n",
       "</style>\n",
       "<table border=\"1\" class=\"dataframe\">\n",
       "  <thead>\n",
       "    <tr style=\"text-align: right;\">\n",
       "      <th></th>\n",
       "      <th>week_id</th>\n",
       "      <th>ad_id</th>\n",
       "      <th>requester</th>\n",
       "      <th>region</th>\n",
       "      <th>is_success</th>\n",
       "      <th>is_sever</th>\n",
       "      <th>recommendation_type</th>\n",
       "      <th>rec_provider</th>\n",
       "    </tr>\n",
       "  </thead>\n",
       "  <tbody>\n",
       "    <tr>\n",
       "      <th>228909</th>\n",
       "      <td>2021-week_48</td>\n",
       "      <td>AD078HGTZX</td>\n",
       "      <td>Extreme DA</td>\n",
       "      <td>US</td>\n",
       "      <td>yes</td>\n",
       "      <td>NaN</td>\n",
       "      <td>Yield</td>\n",
       "      <td>DNNY</td>\n",
       "    </tr>\n",
       "    <tr>\n",
       "      <th>103293</th>\n",
       "      <td>2021-week_40</td>\n",
       "      <td>AD008RYNN8</td>\n",
       "      <td>VarVee</td>\n",
       "      <td>GB</td>\n",
       "      <td>yes</td>\n",
       "      <td>NaN</td>\n",
       "      <td>Yield</td>\n",
       "      <td>DNNY</td>\n",
       "    </tr>\n",
       "    <tr>\n",
       "      <th>51647</th>\n",
       "      <td>2021-week_36</td>\n",
       "      <td>AD07ZJND99</td>\n",
       "      <td>Puentes Company</td>\n",
       "      <td>IN</td>\n",
       "      <td>no</td>\n",
       "      <td>False</td>\n",
       "      <td>Yield</td>\n",
       "      <td>UserPopY</td>\n",
       "    </tr>\n",
       "    <tr>\n",
       "      <th>172080</th>\n",
       "      <td>2021-week_44</td>\n",
       "      <td>AD00K8O8IK</td>\n",
       "      <td>Glory Medical</td>\n",
       "      <td>US</td>\n",
       "      <td>no</td>\n",
       "      <td>True</td>\n",
       "      <td>Yield</td>\n",
       "      <td>RuleBasedY</td>\n",
       "    </tr>\n",
       "    <tr>\n",
       "      <th>91954</th>\n",
       "      <td>2021-week_39</td>\n",
       "      <td>AD07R8PL8R</td>\n",
       "      <td>Puentes Company</td>\n",
       "      <td>IN</td>\n",
       "      <td>yes</td>\n",
       "      <td>NaN</td>\n",
       "      <td>Yield</td>\n",
       "      <td>UserPopY</td>\n",
       "    </tr>\n",
       "    <tr>\n",
       "      <th>242422</th>\n",
       "      <td>2021-week_49</td>\n",
       "      <td>AD00M90HTM</td>\n",
       "      <td>Fancy</td>\n",
       "      <td>US</td>\n",
       "      <td>yes</td>\n",
       "      <td>NaN</td>\n",
       "      <td>Qality</td>\n",
       "      <td>DNNQ</td>\n",
       "    </tr>\n",
       "    <tr>\n",
       "      <th>16757</th>\n",
       "      <td>2021-week_34</td>\n",
       "      <td>AD00SP88KZ</td>\n",
       "      <td>Bizanga</td>\n",
       "      <td>GB</td>\n",
       "      <td>yes</td>\n",
       "      <td>NaN</td>\n",
       "      <td>Yield</td>\n",
       "      <td>DNNY</td>\n",
       "    </tr>\n",
       "    <tr>\n",
       "      <th>179672</th>\n",
       "      <td>2021-week_45</td>\n",
       "      <td>AD078C8HY</td>\n",
       "      <td>RelayFoods</td>\n",
       "      <td>IN</td>\n",
       "      <td>yes</td>\n",
       "      <td>NaN</td>\n",
       "      <td>Qality</td>\n",
       "      <td>UserPopQ</td>\n",
       "    </tr>\n",
       "    <tr>\n",
       "      <th>371034</th>\n",
       "      <td>2022-week_52</td>\n",
       "      <td>AD08DTZQPT</td>\n",
       "      <td>Extreme DA</td>\n",
       "      <td>US</td>\n",
       "      <td>yes</td>\n",
       "      <td>NaN</td>\n",
       "      <td>Yield</td>\n",
       "      <td>DNNY</td>\n",
       "    </tr>\n",
       "  </tbody>\n",
       "</table>\n",
       "</div>"
      ],
      "text/plain": [
       "             week_id       ad_id        requester region is_success is_sever  \\\n",
       "228909  2021-week_48  AD078HGTZX       Extreme DA     US        yes      NaN   \n",
       "103293  2021-week_40  AD008RYNN8           VarVee     GB        yes      NaN   \n",
       "51647   2021-week_36  AD07ZJND99  Puentes Company     IN         no    False   \n",
       "172080  2021-week_44  AD00K8O8IK    Glory Medical     US         no     True   \n",
       "91954   2021-week_39  AD07R8PL8R  Puentes Company     IN        yes      NaN   \n",
       "242422  2021-week_49  AD00M90HTM            Fancy     US        yes      NaN   \n",
       "16757   2021-week_34  AD00SP88KZ          Bizanga     GB        yes      NaN   \n",
       "179672  2021-week_45   AD078C8HY       RelayFoods     IN        yes      NaN   \n",
       "371034  2022-week_52  AD08DTZQPT       Extreme DA     US        yes      NaN   \n",
       "\n",
       "       recommendation_type rec_provider  \n",
       "228909               Yield         DNNY  \n",
       "103293               Yield         DNNY  \n",
       "51647                Yield     UserPopY  \n",
       "172080               Yield   RuleBasedY  \n",
       "91954                Yield     UserPopY  \n",
       "242422              Qality         DNNQ  \n",
       "16757                Yield         DNNY  \n",
       "179672              Qality     UserPopQ  \n",
       "371034               Yield         DNNY  "
      ]
     },
     "execution_count": 122,
     "metadata": {},
     "output_type": "execute_result"
    }
   ],
   "source": [
    "ad_recs_annotated = pd.read_csv('data/ad_annotations.csv')\n",
    "ad_recs_annotated.sample(9)"
   ]
  },
  {
   "cell_type": "markdown",
   "id": "f4413766-e8bf-4f14-94e0-f58cfb88bb07",
   "metadata": {},
   "source": [
    "Your job, as the new and only data scientist of the company, is to get familiar with the the data, show week-over-week trends and produce insightfull graphs as a preparation to a full blown BI dashboard."
   ]
  },
  {
   "cell_type": "markdown",
   "id": "97faa00a-e0e3-47c0-bb8e-b3f72e1f0cb1",
   "metadata": {},
   "source": [
    "## Questions"
   ]
  },
  {
   "cell_type": "markdown",
   "id": "c0ed5ec1-d7b3-49a6-bf12-29420eab3a67",
   "metadata": {},
   "source": [
    "### Data Modifications"
   ]
  },
  {
   "cell_type": "markdown",
   "id": "8db18aad-c8b8-4fd4-994f-c008f279e1f6",
   "metadata": {},
   "source": [
    "* Add a column with the sample year\n",
    "* Add a column with the sample quarter (google how to)\n",
    "* Add a new success column with values 1 and 0 for yes and no \n",
    "* Are there duplicated ads? To compac the data, remove duplicated ads and instead add an ad_count column **(pay attention, this is not trivial at all)**\n",
    "* Are there any NaNs in the is_sever column? Count how many and create a new column with NaNs filled as False. Check that indeed the new column contaion no NaNs. \n",
    "* Capitlize (first letter only) the is_success column"
   ]
  },
  {
   "cell_type": "code",
   "execution_count": 123,
   "id": "e9be172e",
   "metadata": {},
   "outputs": [],
   "source": [
    "ad_recs_annotated['week_id'] = ad_recs_annotated['week_id'].replace('2022-week_52','2021-week_52') #Just fixing the dataset, not an answer"
   ]
  },
  {
   "cell_type": "code",
   "execution_count": 124,
   "id": "096d7437",
   "metadata": {},
   "outputs": [],
   "source": [
    "ad_recs_annotated['week'] = ad_recs_annotated['week_id'].astype(str).str[-2 :].astype(int)\n"
   ]
  },
  {
   "cell_type": "code",
   "execution_count": 125,
   "id": "c324492d",
   "metadata": {},
   "outputs": [
    {
     "data": {
      "text/plain": [
       "0         2021\n",
       "1         2021\n",
       "2         2021\n",
       "3         2021\n",
       "4         2021\n",
       "          ... \n",
       "373783    2021\n",
       "373784    2021\n",
       "373785    2021\n",
       "373786    2021\n",
       "373787    2021\n",
       "Name: sample_year, Length: 373788, dtype: int64"
      ]
     },
     "execution_count": 125,
     "metadata": {},
     "output_type": "execute_result"
    }
   ],
   "source": [
    "ad_recs_annotated['sample_year'] = pd.DatetimeIndex(pd.to_datetime(ad_recs_annotated['week_id'].astype(str).str[0 : 4],format='%Y')).year\n",
    "ad_recs_annotated['sample_year'] "
   ]
  },
  {
   "cell_type": "code",
   "execution_count": 126,
   "id": "d6ea55e9",
   "metadata": {},
   "outputs": [],
   "source": [
    "ad_recs_annotated['quarter'] = ad_recs_annotated['week'].astype(str).str[-2 :].astype(int)\n",
    "ad_recs_annotated.loc[(ad_recs_annotated['week'] < 13) , 'quarter'] = 'Q1'\n",
    "ad_recs_annotated.loc[((ad_recs_annotated['week'] >= 13) & (ad_recs_annotated['week'] < 26)) , 'quarter'] = 'Q2'\n",
    "ad_recs_annotated.loc[((ad_recs_annotated['week'] >= 26) & (ad_recs_annotated['week'] < 38)) , 'quarter'] = 'Q3'\n",
    "ad_recs_annotated.loc[((ad_recs_annotated['week'] >= 38) & (ad_recs_annotated['week'] < 53)) , 'quarter'] = 'Q4'"
   ]
  },
  {
   "cell_type": "code",
   "execution_count": 127,
   "id": "b87d683c",
   "metadata": {},
   "outputs": [
    {
     "data": {
      "text/html": [
       "<div>\n",
       "<style scoped>\n",
       "    .dataframe tbody tr th:only-of-type {\n",
       "        vertical-align: middle;\n",
       "    }\n",
       "\n",
       "    .dataframe tbody tr th {\n",
       "        vertical-align: top;\n",
       "    }\n",
       "\n",
       "    .dataframe thead th {\n",
       "        text-align: right;\n",
       "    }\n",
       "</style>\n",
       "<table border=\"1\" class=\"dataframe\">\n",
       "  <thead>\n",
       "    <tr style=\"text-align: right;\">\n",
       "      <th></th>\n",
       "      <th>week_id</th>\n",
       "      <th>ad_id</th>\n",
       "      <th>requester</th>\n",
       "      <th>region</th>\n",
       "      <th>is_success</th>\n",
       "      <th>is_sever</th>\n",
       "      <th>recommendation_type</th>\n",
       "      <th>rec_provider</th>\n",
       "      <th>week</th>\n",
       "      <th>sample_year</th>\n",
       "      <th>quarter</th>\n",
       "    </tr>\n",
       "  </thead>\n",
       "  <tbody>\n",
       "    <tr>\n",
       "      <th>347026</th>\n",
       "      <td>2022-week_06</td>\n",
       "      <td>AD07PJF7HK</td>\n",
       "      <td>Fancy</td>\n",
       "      <td>GB</td>\n",
       "      <td>no</td>\n",
       "      <td>True</td>\n",
       "      <td>Qality</td>\n",
       "      <td>DNNQ</td>\n",
       "      <td>6</td>\n",
       "      <td>2022</td>\n",
       "      <td>Q1</td>\n",
       "    </tr>\n",
       "    <tr>\n",
       "      <th>65538</th>\n",
       "      <td>2021-week_37</td>\n",
       "      <td>AD07ZF8QXJ</td>\n",
       "      <td>Puentes Company</td>\n",
       "      <td>IN</td>\n",
       "      <td>yes</td>\n",
       "      <td>NaN</td>\n",
       "      <td>Yield</td>\n",
       "      <td>UserPopY</td>\n",
       "      <td>37</td>\n",
       "      <td>2021</td>\n",
       "      <td>Q3</td>\n",
       "    </tr>\n",
       "    <tr>\n",
       "      <th>151527</th>\n",
       "      <td>2021-week_43</td>\n",
       "      <td>AD098P8MK7</td>\n",
       "      <td>Puentes Company</td>\n",
       "      <td>IN</td>\n",
       "      <td>yes</td>\n",
       "      <td>NaN</td>\n",
       "      <td>Yield</td>\n",
       "      <td>UserPopY</td>\n",
       "      <td>43</td>\n",
       "      <td>2021</td>\n",
       "      <td>Q4</td>\n",
       "    </tr>\n",
       "    <tr>\n",
       "      <th>203338</th>\n",
       "      <td>2021-week_47</td>\n",
       "      <td>AD0088X868</td>\n",
       "      <td>Search Million Culture</td>\n",
       "      <td>DE</td>\n",
       "      <td>no</td>\n",
       "      <td>True</td>\n",
       "      <td>Qality</td>\n",
       "      <td>DNNQ</td>\n",
       "      <td>47</td>\n",
       "      <td>2021</td>\n",
       "      <td>Q4</td>\n",
       "    </tr>\n",
       "    <tr>\n",
       "      <th>54109</th>\n",
       "      <td>2021-week_36</td>\n",
       "      <td>AD00MJ7VL8</td>\n",
       "      <td>Fry Multimedia</td>\n",
       "      <td>US</td>\n",
       "      <td>yes</td>\n",
       "      <td>NaN</td>\n",
       "      <td>Qality</td>\n",
       "      <td>ManualQ</td>\n",
       "      <td>36</td>\n",
       "      <td>2021</td>\n",
       "      <td>Q3</td>\n",
       "    </tr>\n",
       "  </tbody>\n",
       "</table>\n",
       "</div>"
      ],
      "text/plain": [
       "             week_id       ad_id               requester region is_success  \\\n",
       "347026  2022-week_06  AD07PJF7HK                   Fancy     GB         no   \n",
       "65538   2021-week_37  AD07ZF8QXJ         Puentes Company     IN        yes   \n",
       "151527  2021-week_43  AD098P8MK7         Puentes Company     IN        yes   \n",
       "203338  2021-week_47  AD0088X868  Search Million Culture     DE         no   \n",
       "54109   2021-week_36  AD00MJ7VL8          Fry Multimedia     US        yes   \n",
       "\n",
       "       is_sever recommendation_type rec_provider  week  sample_year quarter  \n",
       "347026     True              Qality         DNNQ     6         2022      Q1  \n",
       "65538       NaN               Yield     UserPopY    37         2021      Q3  \n",
       "151527      NaN               Yield     UserPopY    43         2021      Q4  \n",
       "203338     True              Qality         DNNQ    47         2021      Q4  \n",
       "54109       NaN              Qality      ManualQ    36         2021      Q3  "
      ]
     },
     "execution_count": 127,
     "metadata": {},
     "output_type": "execute_result"
    }
   ],
   "source": [
    "ad_recs_annotated.sample(5)"
   ]
  },
  {
   "cell_type": "code",
   "execution_count": 128,
   "id": "98fd358c",
   "metadata": {},
   "outputs": [
    {
     "data": {
      "text/plain": [
       "41813     1\n",
       "84143     1\n",
       "109371    0\n",
       "340517    0\n",
       "64245     1\n",
       "331123    1\n",
       "219405    1\n",
       "95727     1\n",
       "220923    1\n",
       "188901    1\n",
       "Name: is_success_binary, dtype: int64"
      ]
     },
     "execution_count": 128,
     "metadata": {},
     "output_type": "execute_result"
    }
   ],
   "source": [
    "ad_recs_annotated['is_success_binary'] = ad_recs_annotated['is_success'].replace('yes',1).replace('no',0)\n",
    "ad_recs_annotated['is_success_binary'].sample(10)"
   ]
  },
  {
   "cell_type": "code",
   "execution_count": 129,
   "id": "93811f21",
   "metadata": {},
   "outputs": [
    {
     "data": {
      "text/plain": [
       "304195"
      ]
     },
     "execution_count": 129,
     "metadata": {},
     "output_type": "execute_result"
    }
   ],
   "source": [
    "sum(ad_recs_annotated['is_sever'].isna())"
   ]
  },
  {
   "cell_type": "code",
   "execution_count": 130,
   "id": "fb61d0bf",
   "metadata": {},
   "outputs": [
    {
     "data": {
      "text/plain": [
       "355424     True\n",
       "42875     False\n",
       "86073     False\n",
       "237853    False\n",
       "370909    False\n",
       "Name: is_severe_corrected, dtype: bool"
      ]
     },
     "execution_count": 130,
     "metadata": {},
     "output_type": "execute_result"
    }
   ],
   "source": [
    "ad_recs_annotated['is_severe_corrected'] = ad_recs_annotated['is_sever'].fillna(False)\n",
    "ad_recs_annotated['is_severe_corrected'].sample(5)"
   ]
  },
  {
   "cell_type": "code",
   "execution_count": 131,
   "id": "3febff0e",
   "metadata": {},
   "outputs": [
    {
     "data": {
      "text/plain": [
       "AD07PFFMP9    247\n",
       "AD098SWYF6    239\n",
       "AD08C8RR8J    138\n",
       "AD0886VY87     99\n",
       "AD08888888     96\n",
       "             ... \n",
       "AD07Y8JSHJ      1\n",
       "AD0888J7AO      1\n",
       "AD087G7SHR      1\n",
       "AD086QCZGJ      1\n",
       "AD08FWNFDO      1\n",
       "Name: ad_id, Length: 300727, dtype: int64"
      ]
     },
     "execution_count": 131,
     "metadata": {},
     "output_type": "execute_result"
    }
   ],
   "source": [
    "ad_recs_annotated['ad_id'].value_counts()"
   ]
  },
  {
   "cell_type": "code",
   "execution_count": 132,
   "id": "aff49e05",
   "metadata": {},
   "outputs": [
    {
     "data": {
      "text/plain": [
       "0         Yes\n",
       "1         Yes\n",
       "2         Yes\n",
       "3         Yes\n",
       "4         Yes\n",
       "         ... \n",
       "373783    Yes\n",
       "373784    Yes\n",
       "373785    Yes\n",
       "373786    Yes\n",
       "373787    Yes\n",
       "Name: is_success, Length: 373788, dtype: object"
      ]
     },
     "execution_count": 132,
     "metadata": {},
     "output_type": "execute_result"
    }
   ],
   "source": [
    "ad_recs_annotated['is_success'].str.capitalize()"
   ]
  },
  {
   "cell_type": "markdown",
   "id": "e1a4707e-5673-4bec-bf9a-51aaf633b09f",
   "metadata": {},
   "source": [
    "### Subset selection"
   ]
  },
  {
   "cell_type": "markdown",
   "id": "6e4087a0-8706-471d-ae78-d9c47534f6b8",
   "metadata": {},
   "source": [
    "for each question, sub-select the data by using the conditional selection (`[]`) and the `.query` API. Use `.shape` on the subselection to obtain the result.  \n",
    "For example:\n",
    "`df.query('some_condition').shape`"
   ]
  },
  {
   "cell_type": "markdown",
   "id": "df326ef2-83c4-400f-bb51-f47db2401ee3",
   "metadata": {},
   "source": [
    "1. How many requests are there in US region? \n",
    "1. How many **successful** requests are there in US region? \n",
    "1. How many **successful** requests are there in US region, on week 52?\n",
    "1. How many requests where delivered by DDNQ, RRNY and UserPopQ together? \n",
    "1. How many requests where delivered by rule based providers? \n",
    "1. Select only the requests from 2021 - How many are there? \n",
    "1. Select the reqeusts from week 30 to week 40 - How many are there? \n",
    "1. Select all the data that comes from the most popular Ad\n",
    "1. Select all the data that comes from the least popular provider\n",
    "1. Select the data in which is_sever is None. How big is it? \n",
    "1. Select the data in which the requester is a 3 word company\n",
    "1. Select the data in which the requester is a 3 word company, and the ad_id has the letter 6 in it\n",
    "1. Select the data in which the requester is a 3 word company, and the multiplication of all the numbers in the ad_id is bigger than 30"
   ]
  },
  {
   "cell_type": "code",
   "execution_count": 133,
   "id": "7396191c",
   "metadata": {},
   "outputs": [
    {
     "data": {
      "text/plain": [
       "(103846, 13)"
      ]
     },
     "execution_count": 133,
     "metadata": {},
     "output_type": "execute_result"
    }
   ],
   "source": [
    "#Q1\n",
    "ad_recs_annotated.query('region == \"US\"').shape"
   ]
  },
  {
   "cell_type": "code",
   "execution_count": 134,
   "id": "c3e1f624",
   "metadata": {},
   "outputs": [
    {
     "data": {
      "text/plain": [
       "(88918, 13)"
      ]
     },
     "execution_count": 134,
     "metadata": {},
     "output_type": "execute_result"
    }
   ],
   "source": [
    "#Q2\n",
    "ad_recs_annotated.query('region == \"US\" and is_success_binary == 1').shape"
   ]
  },
  {
   "cell_type": "code",
   "execution_count": 135,
   "id": "7ba36cf4",
   "metadata": {},
   "outputs": [
    {
     "data": {
      "text/plain": [
       "10382     33\n",
       "10383     33\n",
       "10384     33\n",
       "10385     33\n",
       "10386     33\n",
       "          ..\n",
       "373783    52\n",
       "373784    52\n",
       "373785    52\n",
       "373786    52\n",
       "373787    52\n",
       "Name: week, Length: 88918, dtype: int32"
      ]
     },
     "execution_count": 135,
     "metadata": {},
     "output_type": "execute_result"
    }
   ],
   "source": [
    "#Q3\n",
    "ad_recs_annotated.query('region == \"US\" and is_success_binary == 1')['week'].astype(str).str[-2 :].astype(int)"
   ]
  },
  {
   "cell_type": "code",
   "execution_count": 136,
   "id": "20b4dda1",
   "metadata": {},
   "outputs": [
    {
     "data": {
      "text/plain": [
       "(28154, 13)"
      ]
     },
     "execution_count": 136,
     "metadata": {},
     "output_type": "execute_result"
    }
   ],
   "source": [
    "#Q4\n",
    "ad_recs_annotated.query('rec_provider == \"RuleBasedY\"').shape"
   ]
  },
  {
   "cell_type": "code",
   "execution_count": 137,
   "id": "5f0f5b19",
   "metadata": {},
   "outputs": [
    {
     "data": {
      "text/plain": [
       "69937"
      ]
     },
     "execution_count": 137,
     "metadata": {},
     "output_type": "execute_result"
    }
   ],
   "source": [
    "#Q5\n",
    "len(ad_recs_annotated.query('rec_provider == [\"DDNQ\",\"RRNY\",\"UserPopQ\"]'))"
   ]
  },
  {
   "cell_type": "code",
   "execution_count": 138,
   "id": "436cc54f",
   "metadata": {},
   "outputs": [
    {
     "data": {
      "text/plain": [
       "(287545, 13)"
      ]
     },
     "execution_count": 138,
     "metadata": {},
     "output_type": "execute_result"
    }
   ],
   "source": [
    "#Q6\n",
    "ad_recs_annotated.query('sample_year == 2021').shape"
   ]
  },
  {
   "cell_type": "code",
   "execution_count": 139,
   "id": "5ac4173e",
   "metadata": {},
   "outputs": [
    {
     "data": {
      "text/plain": [
       "115051"
      ]
     },
     "execution_count": 139,
     "metadata": {},
     "output_type": "execute_result"
    }
   ],
   "source": [
    "#Q7\n",
    "sum(ad_recs_annotated['week_id'].astype(str).str[-2:].astype(int).between(30,40))"
   ]
  },
  {
   "cell_type": "code",
   "execution_count": 140,
   "id": "a979974f",
   "metadata": {},
   "outputs": [
    {
     "data": {
      "text/html": [
       "<div>\n",
       "<style scoped>\n",
       "    .dataframe tbody tr th:only-of-type {\n",
       "        vertical-align: middle;\n",
       "    }\n",
       "\n",
       "    .dataframe tbody tr th {\n",
       "        vertical-align: top;\n",
       "    }\n",
       "\n",
       "    .dataframe thead th {\n",
       "        text-align: right;\n",
       "    }\n",
       "</style>\n",
       "<table border=\"1\" class=\"dataframe\">\n",
       "  <thead>\n",
       "    <tr style=\"text-align: right;\">\n",
       "      <th></th>\n",
       "      <th>week_id</th>\n",
       "      <th>ad_id</th>\n",
       "      <th>requester</th>\n",
       "      <th>region</th>\n",
       "      <th>is_success</th>\n",
       "      <th>is_sever</th>\n",
       "      <th>recommendation_type</th>\n",
       "      <th>rec_provider</th>\n",
       "      <th>week</th>\n",
       "      <th>sample_year</th>\n",
       "      <th>quarter</th>\n",
       "      <th>is_severe_corrected</th>\n",
       "    </tr>\n",
       "    <tr>\n",
       "      <th>is_success_binary</th>\n",
       "      <th></th>\n",
       "      <th></th>\n",
       "      <th></th>\n",
       "      <th></th>\n",
       "      <th></th>\n",
       "      <th></th>\n",
       "      <th></th>\n",
       "      <th></th>\n",
       "      <th></th>\n",
       "      <th></th>\n",
       "      <th></th>\n",
       "      <th></th>\n",
       "    </tr>\n",
       "  </thead>\n",
       "  <tbody>\n",
       "    <tr>\n",
       "      <th>0</th>\n",
       "      <td>2022-week_06</td>\n",
       "      <td>AD99798888</td>\n",
       "      <td>iDreamsky Technology</td>\n",
       "      <td>US</td>\n",
       "      <td>no</td>\n",
       "      <td>True</td>\n",
       "      <td>Yield</td>\n",
       "      <td>XGBY</td>\n",
       "      <td>52</td>\n",
       "      <td>2022</td>\n",
       "      <td>Q4</td>\n",
       "      <td>True</td>\n",
       "    </tr>\n",
       "    <tr>\n",
       "      <th>1</th>\n",
       "      <td>2022-week_06</td>\n",
       "      <td>ADOO8X898E</td>\n",
       "      <td>iDreamsky Technology</td>\n",
       "      <td>US</td>\n",
       "      <td>yes</td>\n",
       "      <td>True</td>\n",
       "      <td>Yield</td>\n",
       "      <td>XGBY</td>\n",
       "      <td>52</td>\n",
       "      <td>2022</td>\n",
       "      <td>Q4</td>\n",
       "      <td>True</td>\n",
       "    </tr>\n",
       "  </tbody>\n",
       "</table>\n",
       "</div>"
      ],
      "text/plain": [
       "                        week_id       ad_id             requester region  \\\n",
       "is_success_binary                                                          \n",
       "0                  2022-week_06  AD99798888  iDreamsky Technology     US   \n",
       "1                  2022-week_06  ADOO8X898E  iDreamsky Technology     US   \n",
       "\n",
       "                  is_success  is_sever recommendation_type rec_provider  week  \\\n",
       "is_success_binary                                                               \n",
       "0                         no      True               Yield         XGBY    52   \n",
       "1                        yes      True               Yield         XGBY    52   \n",
       "\n",
       "                   sample_year quarter  is_severe_corrected  \n",
       "is_success_binary                                            \n",
       "0                         2022      Q4                 True  \n",
       "1                         2022      Q4                 True  "
      ]
     },
     "execution_count": 140,
     "metadata": {},
     "output_type": "execute_result"
    }
   ],
   "source": [
    "#Q8\n",
    "ad_recs_annotated.groupby('is_success_binary').max()"
   ]
  },
  {
   "cell_type": "code",
   "execution_count": 141,
   "id": "480affa8",
   "metadata": {},
   "outputs": [
    {
     "data": {
      "text/plain": [
       "is_success_binary  requester             \n",
       "0                  Search Million Culture    16209\n",
       "Name: requester, dtype: int64"
      ]
     },
     "execution_count": 141,
     "metadata": {},
     "output_type": "execute_result"
    }
   ],
   "source": [
    "#Q9\n",
    "ad_recs_annotated[['requester','is_success_binary']].query('is_success_binary == 0').groupby('is_success_binary')['requester'].value_counts().head(1)"
   ]
  },
  {
   "cell_type": "code",
   "execution_count": 142,
   "id": "7c9b0878",
   "metadata": {},
   "outputs": [
    {
     "data": {
      "text/html": [
       "<div>\n",
       "<style scoped>\n",
       "    .dataframe tbody tr th:only-of-type {\n",
       "        vertical-align: middle;\n",
       "    }\n",
       "\n",
       "    .dataframe tbody tr th {\n",
       "        vertical-align: top;\n",
       "    }\n",
       "\n",
       "    .dataframe thead th {\n",
       "        text-align: right;\n",
       "    }\n",
       "</style>\n",
       "<table border=\"1\" class=\"dataframe\">\n",
       "  <thead>\n",
       "    <tr style=\"text-align: right;\">\n",
       "      <th></th>\n",
       "      <th>week_id</th>\n",
       "      <th>ad_id</th>\n",
       "      <th>requester</th>\n",
       "      <th>region</th>\n",
       "      <th>is_success</th>\n",
       "      <th>is_sever</th>\n",
       "      <th>recommendation_type</th>\n",
       "      <th>rec_provider</th>\n",
       "      <th>week</th>\n",
       "      <th>sample_year</th>\n",
       "      <th>quarter</th>\n",
       "      <th>is_success_binary</th>\n",
       "      <th>is_severe_corrected</th>\n",
       "    </tr>\n",
       "  </thead>\n",
       "  <tbody>\n",
       "    <tr>\n",
       "      <th>44</th>\n",
       "      <td>2021-week_33</td>\n",
       "      <td>AD07FK8888</td>\n",
       "      <td>Search Million Culture</td>\n",
       "      <td>DE</td>\n",
       "      <td>no</td>\n",
       "      <td>False</td>\n",
       "      <td>Qality</td>\n",
       "      <td>BooksQ</td>\n",
       "      <td>33</td>\n",
       "      <td>2021</td>\n",
       "      <td>Q3</td>\n",
       "      <td>0</td>\n",
       "      <td>False</td>\n",
       "    </tr>\n",
       "    <tr>\n",
       "      <th>46</th>\n",
       "      <td>2021-week_33</td>\n",
       "      <td>AD00JG8D7U</td>\n",
       "      <td>SOLOMO365</td>\n",
       "      <td>DE</td>\n",
       "      <td>no</td>\n",
       "      <td>False</td>\n",
       "      <td>Qality</td>\n",
       "      <td>UserPopQ</td>\n",
       "      <td>33</td>\n",
       "      <td>2021</td>\n",
       "      <td>Q3</td>\n",
       "      <td>0</td>\n",
       "      <td>False</td>\n",
       "    </tr>\n",
       "    <tr>\n",
       "      <th>51</th>\n",
       "      <td>2021-week_33</td>\n",
       "      <td>AD80688889</td>\n",
       "      <td>Search Million Culture</td>\n",
       "      <td>DE</td>\n",
       "      <td>no</td>\n",
       "      <td>False</td>\n",
       "      <td>Qality</td>\n",
       "      <td>BooksQ</td>\n",
       "      <td>33</td>\n",
       "      <td>2021</td>\n",
       "      <td>Q3</td>\n",
       "      <td>0</td>\n",
       "      <td>False</td>\n",
       "    </tr>\n",
       "    <tr>\n",
       "      <th>66</th>\n",
       "      <td>2021-week_33</td>\n",
       "      <td>AD0988K8R9</td>\n",
       "      <td>Search Million Culture</td>\n",
       "      <td>DE</td>\n",
       "      <td>no</td>\n",
       "      <td>False</td>\n",
       "      <td>Qality</td>\n",
       "      <td>DNNQ</td>\n",
       "      <td>33</td>\n",
       "      <td>2021</td>\n",
       "      <td>Q3</td>\n",
       "      <td>0</td>\n",
       "      <td>False</td>\n",
       "    </tr>\n",
       "    <tr>\n",
       "      <th>68</th>\n",
       "      <td>2021-week_33</td>\n",
       "      <td>AD088P6887</td>\n",
       "      <td>Search Million Culture</td>\n",
       "      <td>DE</td>\n",
       "      <td>no</td>\n",
       "      <td>False</td>\n",
       "      <td>Qality</td>\n",
       "      <td>UserPopQ</td>\n",
       "      <td>33</td>\n",
       "      <td>2021</td>\n",
       "      <td>Q3</td>\n",
       "      <td>0</td>\n",
       "      <td>False</td>\n",
       "    </tr>\n",
       "    <tr>\n",
       "      <th>...</th>\n",
       "      <td>...</td>\n",
       "      <td>...</td>\n",
       "      <td>...</td>\n",
       "      <td>...</td>\n",
       "      <td>...</td>\n",
       "      <td>...</td>\n",
       "      <td>...</td>\n",
       "      <td>...</td>\n",
       "      <td>...</td>\n",
       "      <td>...</td>\n",
       "      <td>...</td>\n",
       "      <td>...</td>\n",
       "      <td>...</td>\n",
       "    </tr>\n",
       "    <tr>\n",
       "      <th>373704</th>\n",
       "      <td>2021-week_52</td>\n",
       "      <td>AD08L788VC</td>\n",
       "      <td>Extreme DA</td>\n",
       "      <td>US</td>\n",
       "      <td>no</td>\n",
       "      <td>False</td>\n",
       "      <td>Yield</td>\n",
       "      <td>RuleBasedY</td>\n",
       "      <td>52</td>\n",
       "      <td>2021</td>\n",
       "      <td>Q4</td>\n",
       "      <td>0</td>\n",
       "      <td>False</td>\n",
       "    </tr>\n",
       "    <tr>\n",
       "      <th>373729</th>\n",
       "      <td>2021-week_52</td>\n",
       "      <td>AD09MCYZCG</td>\n",
       "      <td>Extreme DA</td>\n",
       "      <td>US</td>\n",
       "      <td>no</td>\n",
       "      <td>False</td>\n",
       "      <td>Yield</td>\n",
       "      <td>RuleBasedY</td>\n",
       "      <td>52</td>\n",
       "      <td>2021</td>\n",
       "      <td>Q4</td>\n",
       "      <td>0</td>\n",
       "      <td>False</td>\n",
       "    </tr>\n",
       "    <tr>\n",
       "      <th>373730</th>\n",
       "      <td>2021-week_52</td>\n",
       "      <td>AD07JGDT8K</td>\n",
       "      <td>Extreme DA</td>\n",
       "      <td>US</td>\n",
       "      <td>no</td>\n",
       "      <td>False</td>\n",
       "      <td>Yield</td>\n",
       "      <td>RuleBasedY</td>\n",
       "      <td>52</td>\n",
       "      <td>2021</td>\n",
       "      <td>Q4</td>\n",
       "      <td>0</td>\n",
       "      <td>False</td>\n",
       "    </tr>\n",
       "    <tr>\n",
       "      <th>373738</th>\n",
       "      <td>2021-week_52</td>\n",
       "      <td>AD008N8MW8</td>\n",
       "      <td>Fancy</td>\n",
       "      <td>US</td>\n",
       "      <td>no</td>\n",
       "      <td>False</td>\n",
       "      <td>Qality</td>\n",
       "      <td>DNNQ</td>\n",
       "      <td>52</td>\n",
       "      <td>2021</td>\n",
       "      <td>Q4</td>\n",
       "      <td>0</td>\n",
       "      <td>False</td>\n",
       "    </tr>\n",
       "    <tr>\n",
       "      <th>373747</th>\n",
       "      <td>2021-week_52</td>\n",
       "      <td>AD07QTY8DG</td>\n",
       "      <td>Extreme DA</td>\n",
       "      <td>US</td>\n",
       "      <td>no</td>\n",
       "      <td>False</td>\n",
       "      <td>Yield</td>\n",
       "      <td>UserPopY</td>\n",
       "      <td>52</td>\n",
       "      <td>2021</td>\n",
       "      <td>Q4</td>\n",
       "      <td>0</td>\n",
       "      <td>False</td>\n",
       "    </tr>\n",
       "  </tbody>\n",
       "</table>\n",
       "<p>24904 rows × 13 columns</p>\n",
       "</div>"
      ],
      "text/plain": [
       "             week_id       ad_id               requester region is_success  \\\n",
       "44      2021-week_33  AD07FK8888  Search Million Culture     DE         no   \n",
       "46      2021-week_33  AD00JG8D7U               SOLOMO365     DE         no   \n",
       "51      2021-week_33  AD80688889  Search Million Culture     DE         no   \n",
       "66      2021-week_33  AD0988K8R9  Search Million Culture     DE         no   \n",
       "68      2021-week_33  AD088P6887  Search Million Culture     DE         no   \n",
       "...              ...         ...                     ...    ...        ...   \n",
       "373704  2021-week_52  AD08L788VC              Extreme DA     US         no   \n",
       "373729  2021-week_52  AD09MCYZCG              Extreme DA     US         no   \n",
       "373730  2021-week_52  AD07JGDT8K              Extreme DA     US         no   \n",
       "373738  2021-week_52  AD008N8MW8                   Fancy     US         no   \n",
       "373747  2021-week_52  AD07QTY8DG              Extreme DA     US         no   \n",
       "\n",
       "       is_sever recommendation_type rec_provider  week  sample_year quarter  \\\n",
       "44        False              Qality       BooksQ    33         2021      Q3   \n",
       "46        False              Qality     UserPopQ    33         2021      Q3   \n",
       "51        False              Qality       BooksQ    33         2021      Q3   \n",
       "66        False              Qality         DNNQ    33         2021      Q3   \n",
       "68        False              Qality     UserPopQ    33         2021      Q3   \n",
       "...         ...                 ...          ...   ...          ...     ...   \n",
       "373704    False               Yield   RuleBasedY    52         2021      Q4   \n",
       "373729    False               Yield   RuleBasedY    52         2021      Q4   \n",
       "373730    False               Yield   RuleBasedY    52         2021      Q4   \n",
       "373738    False              Qality         DNNQ    52         2021      Q4   \n",
       "373747    False               Yield     UserPopY    52         2021      Q4   \n",
       "\n",
       "        is_success_binary  is_severe_corrected  \n",
       "44                      0                False  \n",
       "46                      0                False  \n",
       "51                      0                False  \n",
       "66                      0                False  \n",
       "68                      0                False  \n",
       "...                   ...                  ...  \n",
       "373704                  0                False  \n",
       "373729                  0                False  \n",
       "373730                  0                False  \n",
       "373738                  0                False  \n",
       "373747                  0                False  \n",
       "\n",
       "[24904 rows x 13 columns]"
      ]
     },
     "execution_count": 142,
     "metadata": {},
     "output_type": "execute_result"
    }
   ],
   "source": [
    "#Q10\n",
    "ad_recs_annotated.query('is_sever == False')"
   ]
  },
  {
   "cell_type": "code",
   "execution_count": 143,
   "id": "fdd3635e",
   "metadata": {},
   "outputs": [
    {
     "data": {
      "text/plain": [
       "0         Search Million Culture\n",
       "1          MoJoe Brewing Company\n",
       "2         Search Million Culture\n",
       "3         Search Million Culture\n",
       "4         Search Million Culture\n",
       "                   ...          \n",
       "373663     MoJoe Brewing Company\n",
       "373689     MoJoe Brewing Company\n",
       "373691     MoJoe Brewing Company\n",
       "373722    Search Million Culture\n",
       "373728     MoJoe Brewing Company\n",
       "Name: requester, Length: 118141, dtype: object"
      ]
     },
     "execution_count": 143,
     "metadata": {},
     "output_type": "execute_result"
    }
   ],
   "source": [
    "#Q11\n",
    "ad_recs_annotated['requester'][ad_recs_annotated['requester'].apply(str.split).apply(lambda x : len(x) == 3)]"
   ]
  },
  {
   "cell_type": "code",
   "execution_count": 144,
   "id": "85db0fcf",
   "metadata": {},
   "outputs": [
    {
     "data": {
      "text/plain": [
       "2         Search Million Culture\n",
       "3         Search Million Culture\n",
       "4         Search Million Culture\n",
       "11        Search Million Culture\n",
       "41         MoJoe Brewing Company\n",
       "                   ...          \n",
       "373364     MoJoe Brewing Company\n",
       "373394     MoJoe Brewing Company\n",
       "373511     MoJoe Brewing Company\n",
       "373691     MoJoe Brewing Company\n",
       "373722    Search Million Culture\n",
       "Name: requester, Length: 24197, dtype: object"
      ]
     },
     "execution_count": 144,
     "metadata": {},
     "output_type": "execute_result"
    }
   ],
   "source": [
    "#Q12\n",
    "ad_recs_annotated['requester'][ad_recs_annotated['requester'].apply(str.split).apply(lambda x : len(x) == 3)][ad_recs_annotated['ad_id'].apply(lambda x : '6' in x)]"
   ]
  },
  {
   "cell_type": "code",
   "execution_count": 145,
   "id": "f3c17603",
   "metadata": {},
   "outputs": [
    {
     "ename": "SyntaxError",
     "evalue": "invalid syntax (1796885587.py, line 1)",
     "output_type": "error",
     "traceback": [
      "\u001b[1;36m  File \u001b[1;32m\"C:\\Users\\משתמש\\AppData\\Local\\Temp\\ipykernel_10472\\1796885587.py\"\u001b[1;36m, line \u001b[1;32m1\u001b[0m\n\u001b[1;33m    ad_recs_annotated['requester'][ad_recs_annotated['requester'].apply(str.split).apply(lambda x : len(x) == 3)][ad_recs_annotated['ad_id'].apply(lambda x : x.replace('[a-zA-Z]',''))apply(lambda x : list(float(x))).apply(lambda x, y : 1*y for y in x)]\u001b[0m\n\u001b[1;37m                                                                                                                                                                                           ^\u001b[0m\n\u001b[1;31mSyntaxError\u001b[0m\u001b[1;31m:\u001b[0m invalid syntax\n"
     ]
    }
   ],
   "source": [
    "ad_recs_annotated['requester'][ad_recs_annotated['requester'].apply(str.split).apply(lambda x : len(x) == 3)][ad_recs_annotated['ad_id'].apply(lambda x : x.replace('[a-zA-Z]',''))apply(lambda x : list(float(x))).apply(lambda x, y : 1*y for y in x)]"
   ]
  },
  {
   "cell_type": "markdown",
   "id": "11d8b056-c777-490a-b26d-949ee8755561",
   "metadata": {},
   "source": [
    "### Analysis"
   ]
  },
  {
   "cell_type": "markdown",
   "id": "ccae8707-2c86-424a-bd55-73496219adbe",
   "metadata": {},
   "source": [
    "1. How many weeks available in the data? Are there any missing weeks? \n",
    "1. How many regions available in the data? Are there any missing weeks per region? \n",
    "1. How many ads are being sent to annotation in each region per week?\n",
    "1. How many None values are there in is_sever column? \n",
    "1. Are ads being sent more than one time in a given week? what is the ad_id that was sent the most in a given week? (e.g. ad X where sent 50 times in week Y)\n",
    "1. Are there ads that are being sent in more than one week?\n",
    "   1. Which is the ad that was sent in most amount of weeks (e.g. ad X where sent in Y different weeks)\n",
    "   2. What are the weeks that the ad from above was sent in? \n",
    "   3. Is there an Ad that was succsefull in one week, but not succesfful in a different week? Show one.\n",
    "1. When is_sever is None, what is the number of successful requests? What is the number of non-successful requests? What do you learn from it about the reason for Nones in the first place? \n",
    "1. Per each region, What is the Quality/Yield traffic proportion WoW? \n",
    "1. How many different reqeusters are there? \n",
    "1. Which are the top 5 requesters per region? \n",
    "1. Which are the different rec_proivders?\n",
    "1. Are there different rec providers per region? \n",
    "1. Are there different rec providers per rec type?\n",
    "1. What are the notation rules distinguishing between quality vs yielding providers?\n",
    "1. Which is the most successful region of operation? \n",
    "1. Which is the most successful rec provider per each region? \n",
    "1. Present a table with a success rate, sever defects rate and CI (for each metric) per region\n",
    "1. Present a table with a success rate, sever defects rate and CI (for each metric) per rec provider\n",
    "1. Present a table with a success rate, sever defects rate and CI (for each metric) per region and rec provider combinations\n",
    "1. Present a table with a success rate, sever defects rate and CI (for each metric) per rec type (Q/Y)\n",
    "1. Present a table with a success rate, sever defects rate and CI (for each metric) per rec type and region\n",
    "1. Present WoW table/graph with success rate and CI (see image below) per region\n",
    "1. Present WoW table/graph with success rate and CI (see image below) per region and rec type\n",
    "1. Present WoW table/graph with success rate and CI (see image below) per region and rec provider\n",
    "1. Which are the requester to which we succeed the most?\n",
    "1. Which are the requester to which we produce the most critical defects?\n",
    "1. What is the overall success rate trend over time? \n",
    "1. What is the overall sever defect rate trend over time? \n",
    "1. Preset a WoW graph showing the number of requests per customer in each region (hint: [use stacked bars](https://plotly.com/python/bar-charts/)), from it:\n",
    "  1. Identify major traffic shape changes (addition/removal) of major clients\n",
    "1. Preset a WoW graph showing the **requests proportion** per customer in each region (hint: [use stacked bars](https://plotly.com/python/bar-charts/)), from it:\n",
    "  1. Identify major traffic shape changes (addition/removal) of major clients\n"
   ]
  },
  {
   "cell_type": "markdown",
   "id": "ccd49645-542e-4dbf-b0c4-b197c974a528",
   "metadata": {},
   "source": [
    "Analysis Bonus questions:\n",
    "1. Compute the per region success rate and CI in trailing weeks, Say, 4 weeks instead of 1 week - to allow for smoother estimations and smaller CIs"
   ]
  },
  {
   "cell_type": "code",
   "execution_count": null,
   "id": "1461c6e1",
   "metadata": {},
   "outputs": [
    {
     "data": {
      "text/plain": [
       "26"
      ]
     },
     "execution_count": 56,
     "metadata": {},
     "output_type": "execute_result"
    }
   ],
   "source": [
    "#Q1\n",
    "ad_recs_annotated['week_id'].nunique()"
   ]
  },
  {
   "cell_type": "code",
   "execution_count": null,
   "id": "cc4c207f",
   "metadata": {},
   "outputs": [
    {
     "data": {
      "text/plain": [
       "5"
      ]
     },
     "execution_count": 54,
     "metadata": {},
     "output_type": "execute_result"
    }
   ],
   "source": [
    "#Q2\n",
    "ad_recs_annotated['region'].nunique()"
   ]
  },
  {
   "cell_type": "code",
   "execution_count": null,
   "id": "34087d53",
   "metadata": {},
   "outputs": [
    {
     "data": {
      "text/plain": [
       "region  week_id       region\n",
       "DE      2021-week_33  DE        2395\n",
       "        2021-week_34  DE        2360\n",
       "        2021-week_35  DE        2393\n",
       "        2021-week_36  DE        2401\n",
       "        2021-week_37  DE        2404\n",
       "                                ... \n",
       "US      2022-week_02  US        4016\n",
       "        2022-week_03  US        3979\n",
       "        2022-week_04  US        3999\n",
       "        2022-week_05  US        3998\n",
       "        2022-week_06  US        3992\n",
       "Name: region, Length: 129, dtype: int64"
      ]
     },
     "execution_count": 55,
     "metadata": {},
     "output_type": "execute_result"
    }
   ],
   "source": [
    "#Q3\n",
    "ad_recs_annotated.groupby(['region','week_id'])['region'].value_counts()"
   ]
  },
  {
   "cell_type": "code",
   "execution_count": null,
   "id": "0309d162",
   "metadata": {},
   "outputs": [
    {
     "data": {
      "text/plain": [
       "304195"
      ]
     },
     "execution_count": 57,
     "metadata": {},
     "output_type": "execute_result"
    }
   ],
   "source": [
    "#Q4\n",
    "sum(ad_recs_annotated['is_sever'].isna())"
   ]
  },
  {
   "cell_type": "code",
   "execution_count": null,
   "id": "c3e1f624",
   "metadata": {},
   "outputs": [
    {
     "data": {
      "text/plain": [
       "88918"
      ]
     },
     "execution_count": 58,
     "metadata": {},
     "output_type": "execute_result"
    }
   ],
   "source": [
    "#Q5\n",
    "len(ad_recs_annotated.query('region == \"US\" and is_success_binary == 1'))"
   ]
  },
  {
   "cell_type": "code",
   "execution_count": null,
   "id": "73188a6e",
   "metadata": {},
   "outputs": [
    {
     "data": {
      "text/plain": [
       "week_id       ad_id       ad_id     \n",
       "2021-week_40  AD098SWYF6  AD098SWYF6    81\n",
       "Name: ad_id, dtype: int64"
      ]
     },
     "execution_count": 59,
     "metadata": {},
     "output_type": "execute_result"
    }
   ],
   "source": [
    "#Q6A\n",
    "ad_recs_annotated.groupby(['week_id','ad_id'])['ad_id'].value_counts().sort_values(ascending=False).head(1)"
   ]
  },
  {
   "cell_type": "code",
   "execution_count": null,
   "id": "ade37f30",
   "metadata": {},
   "outputs": [
    {
     "data": {
      "text/html": [
       "<div>\n",
       "<style scoped>\n",
       "    .dataframe tbody tr th:only-of-type {\n",
       "        vertical-align: middle;\n",
       "    }\n",
       "\n",
       "    .dataframe tbody tr th {\n",
       "        vertical-align: top;\n",
       "    }\n",
       "\n",
       "    .dataframe thead th {\n",
       "        text-align: right;\n",
       "    }\n",
       "</style>\n",
       "<table border=\"1\" class=\"dataframe\">\n",
       "  <thead>\n",
       "    <tr style=\"text-align: right;\">\n",
       "      <th></th>\n",
       "      <th>week_id</th>\n",
       "      <th>ad_id</th>\n",
       "      <th>requester</th>\n",
       "      <th>region</th>\n",
       "      <th>is_success</th>\n",
       "      <th>is_sever</th>\n",
       "      <th>recommendation_type</th>\n",
       "      <th>rec_provider</th>\n",
       "      <th>week</th>\n",
       "      <th>sample_year</th>\n",
       "      <th>quarter</th>\n",
       "      <th>win</th>\n",
       "      <th>is_success_binary</th>\n",
       "      <th>is_severe_corrected</th>\n",
       "    </tr>\n",
       "  </thead>\n",
       "  <tbody>\n",
       "    <tr>\n",
       "      <th>7261</th>\n",
       "      <td>2021-week_33</td>\n",
       "      <td>AD098SWYF6</td>\n",
       "      <td>MoJoe Brewing Company</td>\n",
       "      <td>IN</td>\n",
       "      <td>yes</td>\n",
       "      <td>NaN</td>\n",
       "      <td>Yield</td>\n",
       "      <td>UserPopY</td>\n",
       "      <td>33</td>\n",
       "      <td>2021</td>\n",
       "      <td>33</td>\n",
       "      <td>Q3</td>\n",
       "      <td>1</td>\n",
       "      <td>False</td>\n",
       "    </tr>\n",
       "    <tr>\n",
       "      <th>7262</th>\n",
       "      <td>2021-week_33</td>\n",
       "      <td>AD098SWYF6</td>\n",
       "      <td>Puentes Company</td>\n",
       "      <td>IN</td>\n",
       "      <td>yes</td>\n",
       "      <td>NaN</td>\n",
       "      <td>Yield</td>\n",
       "      <td>UserPopY</td>\n",
       "      <td>33</td>\n",
       "      <td>2021</td>\n",
       "      <td>33</td>\n",
       "      <td>Q3</td>\n",
       "      <td>1</td>\n",
       "      <td>False</td>\n",
       "    </tr>\n",
       "    <tr>\n",
       "      <th>8082</th>\n",
       "      <td>2021-week_33</td>\n",
       "      <td>AD098SWYF6</td>\n",
       "      <td>Search Million Culture</td>\n",
       "      <td>IN</td>\n",
       "      <td>yes</td>\n",
       "      <td>NaN</td>\n",
       "      <td>Qality</td>\n",
       "      <td>UserPopQ</td>\n",
       "      <td>33</td>\n",
       "      <td>2021</td>\n",
       "      <td>33</td>\n",
       "      <td>Q3</td>\n",
       "      <td>1</td>\n",
       "      <td>False</td>\n",
       "    </tr>\n",
       "    <tr>\n",
       "      <th>8083</th>\n",
       "      <td>2021-week_33</td>\n",
       "      <td>AD098SWYF6</td>\n",
       "      <td>Search Million Culture</td>\n",
       "      <td>IN</td>\n",
       "      <td>yes</td>\n",
       "      <td>NaN</td>\n",
       "      <td>Qality</td>\n",
       "      <td>UserPopQ</td>\n",
       "      <td>33</td>\n",
       "      <td>2021</td>\n",
       "      <td>33</td>\n",
       "      <td>Q3</td>\n",
       "      <td>1</td>\n",
       "      <td>False</td>\n",
       "    </tr>\n",
       "    <tr>\n",
       "      <th>20757</th>\n",
       "      <td>2021-week_34</td>\n",
       "      <td>AD098SWYF6</td>\n",
       "      <td>Search Million Culture</td>\n",
       "      <td>IN</td>\n",
       "      <td>yes</td>\n",
       "      <td>NaN</td>\n",
       "      <td>Qality</td>\n",
       "      <td>UserPopQ</td>\n",
       "      <td>34</td>\n",
       "      <td>2021</td>\n",
       "      <td>34</td>\n",
       "      <td>Q3</td>\n",
       "      <td>1</td>\n",
       "      <td>False</td>\n",
       "    </tr>\n",
       "    <tr>\n",
       "      <th>...</th>\n",
       "      <td>...</td>\n",
       "      <td>...</td>\n",
       "      <td>...</td>\n",
       "      <td>...</td>\n",
       "      <td>...</td>\n",
       "      <td>...</td>\n",
       "      <td>...</td>\n",
       "      <td>...</td>\n",
       "      <td>...</td>\n",
       "      <td>...</td>\n",
       "      <td>...</td>\n",
       "      <td>...</td>\n",
       "      <td>...</td>\n",
       "      <td>...</td>\n",
       "    </tr>\n",
       "    <tr>\n",
       "      <th>363581</th>\n",
       "      <td>2021-week_52</td>\n",
       "      <td>AD098SWYF6</td>\n",
       "      <td>MoJoe Brewing Company</td>\n",
       "      <td>IN</td>\n",
       "      <td>yes</td>\n",
       "      <td>NaN</td>\n",
       "      <td>Yield</td>\n",
       "      <td>UserPopY</td>\n",
       "      <td>52</td>\n",
       "      <td>2021</td>\n",
       "      <td>52</td>\n",
       "      <td>NaN</td>\n",
       "      <td>1</td>\n",
       "      <td>False</td>\n",
       "    </tr>\n",
       "    <tr>\n",
       "      <th>363582</th>\n",
       "      <td>2021-week_52</td>\n",
       "      <td>AD098SWYF6</td>\n",
       "      <td>MoJoe Brewing Company</td>\n",
       "      <td>IN</td>\n",
       "      <td>yes</td>\n",
       "      <td>NaN</td>\n",
       "      <td>Yield</td>\n",
       "      <td>UserPopY</td>\n",
       "      <td>52</td>\n",
       "      <td>2021</td>\n",
       "      <td>52</td>\n",
       "      <td>NaN</td>\n",
       "      <td>1</td>\n",
       "      <td>False</td>\n",
       "    </tr>\n",
       "    <tr>\n",
       "      <th>363583</th>\n",
       "      <td>2021-week_52</td>\n",
       "      <td>AD098SWYF6</td>\n",
       "      <td>MoJoe Brewing Company</td>\n",
       "      <td>IN</td>\n",
       "      <td>yes</td>\n",
       "      <td>NaN</td>\n",
       "      <td>Yield</td>\n",
       "      <td>UserPopY</td>\n",
       "      <td>52</td>\n",
       "      <td>2021</td>\n",
       "      <td>52</td>\n",
       "      <td>NaN</td>\n",
       "      <td>1</td>\n",
       "      <td>False</td>\n",
       "    </tr>\n",
       "    <tr>\n",
       "      <th>363584</th>\n",
       "      <td>2021-week_52</td>\n",
       "      <td>AD098SWYF6</td>\n",
       "      <td>MoJoe Brewing Company</td>\n",
       "      <td>IN</td>\n",
       "      <td>yes</td>\n",
       "      <td>NaN</td>\n",
       "      <td>Yield</td>\n",
       "      <td>UserPopY</td>\n",
       "      <td>52</td>\n",
       "      <td>2021</td>\n",
       "      <td>52</td>\n",
       "      <td>NaN</td>\n",
       "      <td>1</td>\n",
       "      <td>False</td>\n",
       "    </tr>\n",
       "    <tr>\n",
       "      <th>365026</th>\n",
       "      <td>2021-week_52</td>\n",
       "      <td>AD098SWYF6</td>\n",
       "      <td>aPriori Technologies</td>\n",
       "      <td>IN</td>\n",
       "      <td>yes</td>\n",
       "      <td>NaN</td>\n",
       "      <td>Qality</td>\n",
       "      <td>UserPopQ</td>\n",
       "      <td>52</td>\n",
       "      <td>2021</td>\n",
       "      <td>52</td>\n",
       "      <td>NaN</td>\n",
       "      <td>1</td>\n",
       "      <td>False</td>\n",
       "    </tr>\n",
       "  </tbody>\n",
       "</table>\n",
       "<p>239 rows × 14 columns</p>\n",
       "</div>"
      ],
      "text/plain": [
       "             week_id       ad_id               requester region is_success  \\\n",
       "7261    2021-week_33  AD098SWYF6   MoJoe Brewing Company     IN        yes   \n",
       "7262    2021-week_33  AD098SWYF6         Puentes Company     IN        yes   \n",
       "8082    2021-week_33  AD098SWYF6  Search Million Culture     IN        yes   \n",
       "8083    2021-week_33  AD098SWYF6  Search Million Culture     IN        yes   \n",
       "20757   2021-week_34  AD098SWYF6  Search Million Culture     IN        yes   \n",
       "...              ...         ...                     ...    ...        ...   \n",
       "363581  2021-week_52  AD098SWYF6   MoJoe Brewing Company     IN        yes   \n",
       "363582  2021-week_52  AD098SWYF6   MoJoe Brewing Company     IN        yes   \n",
       "363583  2021-week_52  AD098SWYF6   MoJoe Brewing Company     IN        yes   \n",
       "363584  2021-week_52  AD098SWYF6   MoJoe Brewing Company     IN        yes   \n",
       "365026  2021-week_52  AD098SWYF6    aPriori Technologies     IN        yes   \n",
       "\n",
       "       is_sever recommendation_type rec_provider  week  sample_year  quarter  \\\n",
       "7261        NaN               Yield     UserPopY    33         2021       33   \n",
       "7262        NaN               Yield     UserPopY    33         2021       33   \n",
       "8082        NaN              Qality     UserPopQ    33         2021       33   \n",
       "8083        NaN              Qality     UserPopQ    33         2021       33   \n",
       "20757       NaN              Qality     UserPopQ    34         2021       34   \n",
       "...         ...                 ...          ...   ...          ...      ...   \n",
       "363581      NaN               Yield     UserPopY    52         2021       52   \n",
       "363582      NaN               Yield     UserPopY    52         2021       52   \n",
       "363583      NaN               Yield     UserPopY    52         2021       52   \n",
       "363584      NaN               Yield     UserPopY    52         2021       52   \n",
       "365026      NaN              Qality     UserPopQ    52         2021       52   \n",
       "\n",
       "        win  is_success_binary  is_severe_corrected  \n",
       "7261     Q3                  1                False  \n",
       "7262     Q3                  1                False  \n",
       "8082     Q3                  1                False  \n",
       "8083     Q3                  1                False  \n",
       "20757    Q3                  1                False  \n",
       "...     ...                ...                  ...  \n",
       "363581  NaN                  1                False  \n",
       "363582  NaN                  1                False  \n",
       "363583  NaN                  1                False  \n",
       "363584  NaN                  1                False  \n",
       "365026  NaN                  1                False  \n",
       "\n",
       "[239 rows x 14 columns]"
      ]
     },
     "execution_count": 60,
     "metadata": {},
     "output_type": "execute_result"
    }
   ],
   "source": [
    "#Q6B\n",
    "ad_recs_annotated.query('ad_id == \"AD098SWYF6\"')"
   ]
  },
  {
   "cell_type": "code",
   "execution_count": null,
   "id": "a83611ed",
   "metadata": {},
   "outputs": [
    {
     "data": {
      "text/plain": [
       "is_success_binary  requester                   \n",
       "0                  Search Million Culture          6833\n",
       "                   RelayFoods                      5255\n",
       "                   Extreme DA                      4146\n",
       "                   Puentes Company                 2705\n",
       "                   MoJoe Brewing Company           2144\n",
       "                   Fancy                            719\n",
       "                   LocalVox Media                   579\n",
       "                   iDreamsky Technology             575\n",
       "                   Fry Multimedia                   379\n",
       "                   Tab Solutions                    342\n",
       "                   SOLOMO365                        294\n",
       "                   Sensor Tower                     164\n",
       "                   Modanisa                         158\n",
       "                   Bizanga                          131\n",
       "                   Crescendo Networks               111\n",
       "                   VarVee                            99\n",
       "                   G-mode                            96\n",
       "                   aPriori Technologies              74\n",
       "                   OpenDesks, Inc.                   52\n",
       "                   Allthetopbananas.com              10\n",
       "                   Doctorfun Entertainment, Ltd      10\n",
       "                   Mission Street Manufacturing       9\n",
       "                   Pole Star                          8\n",
       "                   PageBites                          4\n",
       "                   Cuiker                             1\n",
       "                   Earth Networks                     1\n",
       "1                  Search Million Culture             4\n",
       "                   RelayFoods                         1\n",
       "Name: requester, dtype: int64"
      ]
     },
     "execution_count": 61,
     "metadata": {},
     "output_type": "execute_result"
    }
   ],
   "source": [
    "#Q7\n",
    "ad_recs_annotated[['requester','is_sever','is_success_binary']].query(\"is_sever == False\").groupby('is_success_binary')['requester'].value_counts()"
   ]
  },
  {
   "cell_type": "code",
   "execution_count": null,
   "id": "afaee4bd",
   "metadata": {},
   "outputs": [
    {
     "data": {
      "text/plain": [
       "week_id       region  recommendation_type\n",
       "2021-week_33  DE      Quality/Yield           3.917864\n",
       "              GB      Quality/Yield           5.360000\n",
       "              IN      Quality/Yield           0.845266\n",
       "              JP      Quality/Yield           4.613240\n",
       "              US      Quality/Yield           1.948071\n",
       "                                               ...    \n",
       "2022-week_06  DE      Quality/Yield           5.830508\n",
       "              GB      Quality/Yield           9.691275\n",
       "              IN      Quality/Yield           1.350774\n",
       "              JP      Quality/Yield          10.288732\n",
       "              US      Quality/Yield           0.582243\n",
       "Name: recommendation_type, Length: 129, dtype: float64"
      ]
     },
     "execution_count": 62,
     "metadata": {},
     "output_type": "execute_result"
    }
   ],
   "source": [
    "# Q8\n",
    "Yield = ad_recs_annotated[['week_id','region','recommendation_type']].query(\"recommendation_type == 'Yield'\").replace('Yield','Quality/Yield').groupby(['week_id','region'])['recommendation_type'].value_counts()\n",
    "Quality = ad_recs_annotated[['week_id','region','recommendation_type']].query(\"recommendation_type == 'Qality'\").replace('Qality','Quality/Yield').groupby(['week_id','region'])['recommendation_type'].value_counts()\n",
    "Quality.divide(Yield)"
   ]
  },
  {
   "cell_type": "code",
   "execution_count": null,
   "id": "d5b0c53f",
   "metadata": {},
   "outputs": [
    {
     "data": {
      "text/plain": [
       "36"
      ]
     },
     "execution_count": 63,
     "metadata": {},
     "output_type": "execute_result"
    }
   ],
   "source": [
    "#Q9\n",
    "ad_recs_annotated['requester'].nunique()"
   ]
  },
  {
   "cell_type": "code",
   "execution_count": null,
   "id": "7acd5161",
   "metadata": {},
   "outputs": [
    {
     "data": {
      "text/plain": [
       "requester             region  region\n",
       "Allthetopbananas.com  DE      DE         51\n",
       "                      GB      GB         50\n",
       "                      IN      IN        107\n",
       "                      US      US          8\n",
       "Altammune             US      US          5\n",
       "Name: region, dtype: int64"
      ]
     },
     "execution_count": 64,
     "metadata": {},
     "output_type": "execute_result"
    }
   ],
   "source": [
    "#Q10\n",
    "ad_recs_annotated.groupby(['requester','region'])['region'].value_counts().head(5)"
   ]
  },
  {
   "cell_type": "code",
   "execution_count": null,
   "id": "077f1c98",
   "metadata": {},
   "outputs": [
    {
     "data": {
      "text/plain": [
       "rec_provider\n",
       "BooksQ               1\n",
       "BooksY               1\n",
       "DNNQ                 1\n",
       "DNNY                 1\n",
       "ManualQ              1\n",
       "ManualY              1\n",
       "RNNQ                 1\n",
       "RNNY                 1\n",
       "RuleBased            1\n",
       "RuleBasedY           1\n",
       "UserPopQ             1\n",
       "UserPopSelectionQ    1\n",
       "UserPopSelectionY    1\n",
       "UserPopY             1\n",
       "XGBQ                 1\n",
       "XGBY                 1\n",
       "Name: rec_provider, dtype: int64"
      ]
     },
     "execution_count": 65,
     "metadata": {},
     "output_type": "execute_result"
    }
   ],
   "source": [
    "#Q11\n",
    "ad_recs_annotated.groupby('rec_provider')['rec_provider'].nunique()"
   ]
  },
  {
   "cell_type": "code",
   "execution_count": null,
   "id": "b9d5c104",
   "metadata": {},
   "outputs": [
    {
     "data": {
      "text/html": [
       "<div>\n",
       "<style scoped>\n",
       "    .dataframe tbody tr th:only-of-type {\n",
       "        vertical-align: middle;\n",
       "    }\n",
       "\n",
       "    .dataframe tbody tr th {\n",
       "        vertical-align: top;\n",
       "    }\n",
       "\n",
       "    .dataframe thead th {\n",
       "        text-align: right;\n",
       "    }\n",
       "</style>\n",
       "<table border=\"1\" class=\"dataframe\">\n",
       "  <thead>\n",
       "    <tr style=\"text-align: right;\">\n",
       "      <th></th>\n",
       "      <th>rec_provider</th>\n",
       "    </tr>\n",
       "    <tr>\n",
       "      <th>region</th>\n",
       "      <th></th>\n",
       "    </tr>\n",
       "  </thead>\n",
       "  <tbody>\n",
       "    <tr>\n",
       "      <th>DE</th>\n",
       "      <td>9</td>\n",
       "    </tr>\n",
       "    <tr>\n",
       "      <th>GB</th>\n",
       "      <td>12</td>\n",
       "    </tr>\n",
       "    <tr>\n",
       "      <th>IN</th>\n",
       "      <td>6</td>\n",
       "    </tr>\n",
       "    <tr>\n",
       "      <th>JP</th>\n",
       "      <td>9</td>\n",
       "    </tr>\n",
       "    <tr>\n",
       "      <th>US</th>\n",
       "      <td>14</td>\n",
       "    </tr>\n",
       "  </tbody>\n",
       "</table>\n",
       "</div>"
      ],
      "text/plain": [
       "        rec_provider\n",
       "region              \n",
       "DE                 9\n",
       "GB                12\n",
       "IN                 6\n",
       "JP                 9\n",
       "US                14"
      ]
     },
     "execution_count": 66,
     "metadata": {},
     "output_type": "execute_result"
    }
   ],
   "source": [
    "# Q12\n",
    "ad_recs_annotated[['region','rec_provider']].groupby(['region']).nunique()"
   ]
  },
  {
   "cell_type": "code",
   "execution_count": null,
   "id": "e5b13afe",
   "metadata": {},
   "outputs": [
    {
     "data": {
      "text/html": [
       "<div>\n",
       "<style scoped>\n",
       "    .dataframe tbody tr th:only-of-type {\n",
       "        vertical-align: middle;\n",
       "    }\n",
       "\n",
       "    .dataframe tbody tr th {\n",
       "        vertical-align: top;\n",
       "    }\n",
       "\n",
       "    .dataframe thead th {\n",
       "        text-align: right;\n",
       "    }\n",
       "</style>\n",
       "<table border=\"1\" class=\"dataframe\">\n",
       "  <thead>\n",
       "    <tr style=\"text-align: right;\">\n",
       "      <th></th>\n",
       "      <th>recommendation_type</th>\n",
       "    </tr>\n",
       "    <tr>\n",
       "      <th>rec_provider</th>\n",
       "      <th></th>\n",
       "    </tr>\n",
       "  </thead>\n",
       "  <tbody>\n",
       "    <tr>\n",
       "      <th>BooksQ</th>\n",
       "      <td>1</td>\n",
       "    </tr>\n",
       "    <tr>\n",
       "      <th>BooksY</th>\n",
       "      <td>1</td>\n",
       "    </tr>\n",
       "    <tr>\n",
       "      <th>DNNQ</th>\n",
       "      <td>1</td>\n",
       "    </tr>\n",
       "    <tr>\n",
       "      <th>DNNY</th>\n",
       "      <td>1</td>\n",
       "    </tr>\n",
       "    <tr>\n",
       "      <th>ManualQ</th>\n",
       "      <td>2</td>\n",
       "    </tr>\n",
       "    <tr>\n",
       "      <th>ManualY</th>\n",
       "      <td>2</td>\n",
       "    </tr>\n",
       "    <tr>\n",
       "      <th>RNNQ</th>\n",
       "      <td>1</td>\n",
       "    </tr>\n",
       "    <tr>\n",
       "      <th>RNNY</th>\n",
       "      <td>1</td>\n",
       "    </tr>\n",
       "    <tr>\n",
       "      <th>RuleBased</th>\n",
       "      <td>1</td>\n",
       "    </tr>\n",
       "    <tr>\n",
       "      <th>RuleBasedY</th>\n",
       "      <td>1</td>\n",
       "    </tr>\n",
       "    <tr>\n",
       "      <th>UserPopQ</th>\n",
       "      <td>1</td>\n",
       "    </tr>\n",
       "    <tr>\n",
       "      <th>UserPopSelectionQ</th>\n",
       "      <td>1</td>\n",
       "    </tr>\n",
       "    <tr>\n",
       "      <th>UserPopSelectionY</th>\n",
       "      <td>1</td>\n",
       "    </tr>\n",
       "    <tr>\n",
       "      <th>UserPopY</th>\n",
       "      <td>1</td>\n",
       "    </tr>\n",
       "    <tr>\n",
       "      <th>XGBQ</th>\n",
       "      <td>1</td>\n",
       "    </tr>\n",
       "    <tr>\n",
       "      <th>XGBY</th>\n",
       "      <td>1</td>\n",
       "    </tr>\n",
       "  </tbody>\n",
       "</table>\n",
       "</div>"
      ],
      "text/plain": [
       "                   recommendation_type\n",
       "rec_provider                          \n",
       "BooksQ                               1\n",
       "BooksY                               1\n",
       "DNNQ                                 1\n",
       "DNNY                                 1\n",
       "ManualQ                              2\n",
       "ManualY                              2\n",
       "RNNQ                                 1\n",
       "RNNY                                 1\n",
       "RuleBased                            1\n",
       "RuleBasedY                           1\n",
       "UserPopQ                             1\n",
       "UserPopSelectionQ                    1\n",
       "UserPopSelectionY                    1\n",
       "UserPopY                             1\n",
       "XGBQ                                 1\n",
       "XGBY                                 1"
      ]
     },
     "execution_count": 67,
     "metadata": {},
     "output_type": "execute_result"
    }
   ],
   "source": [
    "# Q13\n",
    "ad_recs_annotated[['rec_provider','recommendation_type']].groupby(['rec_provider']).nunique()"
   ]
  },
  {
   "cell_type": "code",
   "execution_count": null,
   "id": "9763cc27",
   "metadata": {},
   "outputs": [
    {
     "data": {
      "text/html": [
       "<div>\n",
       "<style scoped>\n",
       "    .dataframe tbody tr th:only-of-type {\n",
       "        vertical-align: middle;\n",
       "    }\n",
       "\n",
       "    .dataframe tbody tr th {\n",
       "        vertical-align: top;\n",
       "    }\n",
       "\n",
       "    .dataframe thead th {\n",
       "        text-align: right;\n",
       "    }\n",
       "</style>\n",
       "<table border=\"1\" class=\"dataframe\">\n",
       "  <thead>\n",
       "    <tr style=\"text-align: right;\">\n",
       "      <th></th>\n",
       "      <th>region</th>\n",
       "    </tr>\n",
       "    <tr>\n",
       "      <th>is_success_binary</th>\n",
       "      <th></th>\n",
       "    </tr>\n",
       "  </thead>\n",
       "  <tbody>\n",
       "    <tr>\n",
       "      <th>0</th>\n",
       "      <td>US</td>\n",
       "    </tr>\n",
       "    <tr>\n",
       "      <th>1</th>\n",
       "      <td>US</td>\n",
       "    </tr>\n",
       "  </tbody>\n",
       "</table>\n",
       "</div>"
      ],
      "text/plain": [
       "                  region\n",
       "is_success_binary       \n",
       "0                     US\n",
       "1                     US"
      ]
     },
     "execution_count": 68,
     "metadata": {},
     "output_type": "execute_result"
    }
   ],
   "source": [
    "# Q15\n",
    "ad_recs_annotated[['region','is_success_binary']].groupby(['is_success_binary']).max()"
   ]
  },
  {
   "cell_type": "code",
   "execution_count": null,
   "id": "2f0dadca",
   "metadata": {},
   "outputs": [
    {
     "data": {
      "text/plain": [
       "region  rec_provider  is_success_binary\n",
       "GB      DNNQ          1                    34681\n",
       "IN      UserPopQ      1                    30407\n",
       "DE      DNNQ          1                    27215\n",
       "US      DNNY          1                    25705\n",
       "JP      DNNQ          1                    20113\n",
       "dtype: int64"
      ]
     },
     "execution_count": 69,
     "metadata": {},
     "output_type": "execute_result"
    }
   ],
   "source": [
    "# Q16\n",
    "ad_recs_annotated[['region','rec_provider','is_success_binary']].query(\"is_success_binary == 1\").value_counts().head(5)"
   ]
  },
  {
   "cell_type": "code",
   "execution_count": 146,
   "id": "c7e11203",
   "metadata": {},
   "outputs": [
    {
     "name": "stdout",
     "output_type": "stream",
     "text": [
      "Range of confidence index for is_success: 0.7865494796103423 < CI < 0.8115507249658964\n"
     ]
    }
   ],
   "source": [
    "#Q21\n",
    "issuccessratio = ad_recs_annotated[['region','recommendation_type','is_success_binary']].groupby(['region','recommendation_type'])['is_success_binary'].sum() / ad_recs_annotated[['region','recommendation_type','is_success_binary']].groupby(['region','recommendation_type'])['is_success_binary'].size()\n",
    "CImin = issuccessratio.mean() - ((1.96*issuccessratio.std())/len(issuccessratio))\n",
    "CImax = issuccessratio.mean() + ((1.96*issuccessratio.std())/len(issuccessratio))\n",
    "print(f'Range of confidence index for is_success: {CImin} < CI < {CImax}')"
   ]
  },
  {
   "cell_type": "code",
   "execution_count": 147,
   "id": "b611a538",
   "metadata": {},
   "outputs": [
    {
     "name": "stdout",
     "output_type": "stream",
     "text": [
      "Range of confidence index for is_severe: 0.1167331737586564 < CI < 0.132910490561199\n"
     ]
    }
   ],
   "source": [
    "#Q21\n",
    "issevereratio = ad_recs_annotated[['region','recommendation_type','is_severe_corrected']].groupby(['region','recommendation_type'])['is_severe_corrected'].sum() / ad_recs_annotated[['region','recommendation_type','is_severe_corrected']].groupby(['region','recommendation_type'])['is_severe_corrected'].size()\n",
    "CImin = issevereratio.mean() - ((1.96*issevereratio.std())/len(issevereratio))\n",
    "CImax = issevereratio.mean() + ((1.96*issevereratio.std())/len(issevereratio))\n",
    "print(f'Range of confidence index for is_severe: {CImin} < CI < {CImax}')"
   ]
  },
  {
   "cell_type": "code",
   "execution_count": 148,
   "id": "8acf75b1",
   "metadata": {},
   "outputs": [
    {
     "name": "stdout",
     "output_type": "stream",
     "text": [
      "Range of confidence index for is_success: 0.8021431028283145 < CI < 0.8144659382915301\n"
     ]
    }
   ],
   "source": [
    "#Q24\n",
    "issuccessratio = ad_recs_annotated[['region','rec_provider','is_success_binary']].groupby(['region','rec_provider'])['is_success_binary'].sum() / ad_recs_annotated[['region','rec_provider','is_success_binary','is_severe_corrected']].groupby(['region','rec_provider'])['is_success_binary'].size()\n",
    "CImin = issuccessratio.mean() - ((1.96*issuccessratio.std())/len(issuccessratio))\n",
    "CImax = issuccessratio.mean() + ((1.96*issuccessratio.std())/len(issuccessratio))\n",
    "print(f'Range of confidence index for is_success: {CImin} < CI < {CImax}')"
   ]
  },
  {
   "cell_type": "code",
   "execution_count": null,
   "id": "f723a6a6",
   "metadata": {},
   "outputs": [
    {
     "data": {
      "text/plain": [
       "requester               is_success_binary\n",
       "Search Million Culture  1                    70331\n",
       "dtype: int64"
      ]
     },
     "execution_count": 72,
     "metadata": {},
     "output_type": "execute_result"
    }
   ],
   "source": [
    "# Q25\n",
    "ad_recs_annotated[['requester','is_success_binary']].query(\"is_success_binary == 1\").value_counts().head(1)"
   ]
  },
  {
   "cell_type": "code",
   "execution_count": null,
   "id": "52bff7e7",
   "metadata": {},
   "outputs": [],
   "source": [
    "#Q29\n",
    "#px.bar(ad_recs_annotated, x = 'week_id' ,y = 'requester', color='requester')"
   ]
  },
  {
   "cell_type": "markdown",
   "id": "cbd7201c-98c2-4d59-a76e-e098dc5d9e43",
   "metadata": {},
   "source": [
    "### Merges and joins"
   ]
  },
  {
   "cell_type": "markdown",
   "id": "d78fa97c-4736-41c5-a649-931808eb8b30",
   "metadata": {},
   "source": [
    "The Wow samples and annotations task were sent and recieve seperatly, per each week. The dataset you were working on was constructed from those files. You can see the files under the `data/weekly` folder, here are the first 10 files:"
   ]
  },
  {
   "cell_type": "code",
   "execution_count": null,
   "id": "81341f62-9161-4f1a-a678-251baba01564",
   "metadata": {},
   "outputs": [
    {
     "ename": "FileNotFoundError",
     "evalue": "[WinError 3] ‏‏למערכת אין אפשרות לאתר את הנתיב שצוין: 'data/weekly/'",
     "output_type": "error",
     "traceback": [
      "\u001b[1;31m---------------------------------------------------------------------------\u001b[0m",
      "\u001b[1;31mFileNotFoundError\u001b[0m                         Traceback (most recent call last)",
      "\u001b[1;32m~\\AppData\\Local\\Temp\\ipykernel_10472\\3900050169.py\u001b[0m in \u001b[0;36m<module>\u001b[1;34m\u001b[0m\n\u001b[0;32m      1\u001b[0m \u001b[1;32mimport\u001b[0m \u001b[0mos\u001b[0m\u001b[1;33m\u001b[0m\u001b[1;33m\u001b[0m\u001b[0m\n\u001b[1;32m----> 2\u001b[1;33m \u001b[0mweekly_files\u001b[0m \u001b[1;33m=\u001b[0m \u001b[0mos\u001b[0m\u001b[1;33m.\u001b[0m\u001b[0mlistdir\u001b[0m\u001b[1;33m(\u001b[0m\u001b[1;34m'data/weekly/'\u001b[0m\u001b[1;33m)\u001b[0m\u001b[1;33m\u001b[0m\u001b[1;33m\u001b[0m\u001b[0m\n\u001b[0m\u001b[0;32m      3\u001b[0m \u001b[0msorted\u001b[0m\u001b[1;33m(\u001b[0m\u001b[0mweekly_files\u001b[0m\u001b[1;33m)\u001b[0m\u001b[1;33m[\u001b[0m\u001b[1;33m:\u001b[0m\u001b[1;36m10\u001b[0m\u001b[1;33m]\u001b[0m\u001b[1;33m\u001b[0m\u001b[1;33m\u001b[0m\u001b[0m\n",
      "\u001b[1;31mFileNotFoundError\u001b[0m: [WinError 3] ‏‏למערכת אין אפשרות לאתר את הנתיב שצוין: 'data/weekly/'"
     ]
    }
   ],
   "source": [
    "import os\n",
    "weekly_files = os.listdir('data/weekly/')\n",
    "sorted(weekly_files)[:10]"
   ]
  },
  {
   "cell_type": "markdown",
   "id": "a0882bd4-9b7a-4ea1-a047-348e5e3f0980",
   "metadata": {},
   "source": [
    "Your task is to reconstruct the dataset above. "
   ]
  },
  {
   "cell_type": "markdown",
   "id": "2405d189-8570-4c86-aa35-320a173779a1",
   "metadata": {},
   "source": [
    "### Visualizations"
   ]
  },
  {
   "cell_type": "markdown",
   "id": "8323da48-3adf-4a9b-b692-7dc528990d5c",
   "metadata": {},
   "source": [
    "Produce the following success rate graph per region:"
   ]
  },
  {
   "cell_type": "code",
   "execution_count": null,
   "id": "42143ac6-1cee-42f8-9eeb-fe7d04683434",
   "metadata": {},
   "outputs": [
    {
     "ename": "",
     "evalue": "",
     "output_type": "error",
     "traceback": [
      "\u001b[1;31mFailed to start the Kernel. \n",
      "Canceled. \n",
      "View Jupyter <a href='command:jupyter.viewOutput'>log</a> for further details."
     ]
    }
   ],
   "source": []
  },
  {
   "cell_type": "markdown",
   "id": "f417703c-0d93-4aee-8a3c-24d6c9e66978",
   "metadata": {},
   "source": [
    "Produce the following requestser proportion graph:"
   ]
  },
  {
   "cell_type": "code",
   "execution_count": null,
   "id": "5d89892f-ca63-4273-b917-2c0d4ef91a79",
   "metadata": {},
   "outputs": [
    {
     "ename": "",
     "evalue": "",
     "output_type": "error",
     "traceback": [
      "\u001b[1;31mFailed to start the Kernel. \n",
      "Canceled. \n",
      "View Jupyter <a href='command:jupyter.viewOutput'>log</a> for further details."
     ]
    }
   ],
   "source": []
  },
  {
   "cell_type": "markdown",
   "id": "a0a44ecb-56c0-4341-94f7-0642ebf71d85",
   "metadata": {},
   "source": [
    "## Appendix"
   ]
  },
  {
   "cell_type": "markdown",
   "id": "0f8d9f04-e707-42ed-b09c-8edbf46a820e",
   "metadata": {},
   "source": [
    "Code to create weekly files:"
   ]
  },
  {
   "cell_type": "code",
   "execution_count": null,
   "id": "4d91c99c-0649-459d-ae1c-5b7cce5a6177",
   "metadata": {},
   "outputs": [
    {
     "ename": "",
     "evalue": "",
     "output_type": "error",
     "traceback": [
      "\u001b[1;31mFailed to start the Kernel. \n",
      "Canceled. \n",
      "View Jupyter <a href='command:jupyter.viewOutput'>log</a> for further details."
     ]
    }
   ],
   "source": [
    "# for l in ad_recs_annotated.region.unique():\n",
    "#     for w in ad_recs_annotated.week_id.unique():\n",
    "#         w_id = w.split('_')[1]\n",
    "#         y = w.split('-')[0]\n",
    "#         query = f'week_id == \"{w}\" and region == \"{l}\"'\n",
    "#         sample_f_name = f'{y}_{w_id}_{l}__Sample.csv'\n",
    "#         ad_recs_annotated.query(query)[['week_id','ad_id','requester','region','recommendation_type', 'rec_provider']].to_csv(f'data/weekly/{sample_f_name}', index=False)\n",
    "#         for s in ad_recs_annotated.recommendation_type.unique():\n",
    "#             ann_f_name = f'{y}_{w_id}_{l}_{s}_annotation_result.csv'\n",
    "#             query = f'week_id == \"{w}\" and region == \"{l}\" and recommendation_type == \"{s}\"'\n",
    "#             sss = ad_recs_annotated.query(query)\n",
    "#             if sss.empty:\n",
    "#                 continue            \n",
    "#             sss[['region','ad_id','is_success','is_sever']].drop_duplicates(subset=['ad_id']).to_csv(f'data/weekly/{ann_f_name}', index=False)"
   ]
  }
 ],
 "metadata": {
  "kernelspec": {
   "display_name": "Python 3",
   "language": "python",
   "name": "python3"
  },
  "language_info": {
   "codemirror_mode": {
    "name": "ipython",
    "version": 3
   },
   "file_extension": ".py",
   "mimetype": "text/x-python",
   "name": "python",
   "nbconvert_exporter": "python",
   "pygments_lexer": "ipython3",
   "version": "3.7.7"
  }
 },
 "nbformat": 4,
 "nbformat_minor": 5
}
